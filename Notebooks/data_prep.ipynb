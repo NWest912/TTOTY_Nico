{
 "cells": [
  {
   "cell_type": "code",
   "execution_count": 8,
   "metadata": {},
   "outputs": [],
   "source": [
    "import pandas as pd\n",
    "from sklearn.model_selection import train_test_split\n",
    "import json\n",
    "\n",
    "df_scam_all = pd.read_csv(\"https://huggingface.co/datasets/BothBosu/scam-dialogue/resolve/main/scam-dialogue_all.csv\")\n",
    "\n",
    "df_scam_all[\"label\"] = df_scam_all[\"label\"].apply(lambda x: \"Fraud\" if x == 1 else \"Not Fraud\")\n",
    "\n",
    "df_scam_all.head()\n",
    "\n",
    "df_train, df_temp = train_test_split(df_scam_all, test_size=0.2, stratify=df_scam_all['type'], random_state=42)\n",
    "df_val, df_test = train_test_split(df_temp, test_size=0.5, stratify=df_temp['type'], random_state=42)\n",
    "\n",
    "# Drop the 'type' column from the train, validation, and test datasets\n",
    "df_train = df_train.drop(columns=['type'])\n",
    "df_val = df_val.drop(columns=['type'])\n",
    "df_test = df_test.drop(columns=['type'])\n",
    "\n",
    "##replace messages with contents and content with parts\n",
    "train_data = []\n",
    "for index, row in df_train.iterrows():\n",
    "    train_data.append({\"messages\": [{\"role\": \"system\", \"content\": \"You should classify the text into one of the following classes:[Fraud, Not Fraud]\"},{\"role\": \"user\", \"content\": row[\"dialogue\"]},{\"role\": \"model\", \"content\": row[\"label\"]}]})\n",
    "\n",
    "val_data = []\n",
    "for index, row in df_val.iterrows():\n",
    "    val_data.append({\"messages\": [{\"role\": \"system\", \"content\": \"You should classify the text into one of the following classes:[Fraud, Not Fraud]\"},{\"role\": \"user\", \"content\": row[\"dialogue\"]},{\"role\": \"model\", \"content\": row[\"label\"]}]})\n",
    "\n",
    "test_data = []\n",
    "for index, row in df_test.iterrows():\n",
    "    test_data.append({\"messages\": [{\"role\": \"system\", \"content\": \"You should classify the text into one of the following classes:[Fraud, Not Fraud]\"},{\"role\": \"user\", \"content\": row[\"dialogue\"]},{\"role\": \"model\", \"content\": row[\"label\"]}]})\n",
    "\n",
    "# Save the data to a JSON file\n",
    "with open(\"train_data_trial.jsonl\", \"w\") as f:\n",
    "    for entry in train_data[:200]:\n",
    "        f.write(json.dumps(entry) + \"\\n\")\n",
    "\n",
    "\n",
    "with open(\"val_data_trial.jsonl\", \"w\") as f:\n",
    "    for entry in val_data[:25]:\n",
    "        f.write(json.dumps(entry) + \"\\n\")\n",
    "\n",
    "\n",
    "df_test[:100].to_csv(\"test_data_trial.csv\", index=False)\n"
   ]
  }
 ],
 "metadata": {
  "kernelspec": {
   "display_name": "venv1405",
   "language": "python",
   "name": "python3"
  },
  "language_info": {
   "codemirror_mode": {
    "name": "ipython",
    "version": 3
   },
   "file_extension": ".py",
   "mimetype": "text/x-python",
   "name": "python",
   "nbconvert_exporter": "python",
   "pygments_lexer": "ipython3",
   "version": "3.12.8"
  }
 },
 "nbformat": 4,
 "nbformat_minor": 2
}
