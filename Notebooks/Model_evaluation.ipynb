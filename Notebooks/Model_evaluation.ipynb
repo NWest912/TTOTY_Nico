{
 "cells": [
  {
   "cell_type": "code",
   "execution_count": null,
   "metadata": {},
   "outputs": [
    {
     "data": {
      "text/html": [
       "\n",
       "        \n",
       "    <link rel=\"stylesheet\" href=\"https://fonts.googleapis.com/icon?family=Material+Icons\">\n",
       "    <style>\n",
       "      .view-vertex-resource,\n",
       "      .view-vertex-resource:hover,\n",
       "      .view-vertex-resource:visited {\n",
       "        position: relative;\n",
       "        display: inline-flex;\n",
       "        flex-direction: row;\n",
       "        height: 32px;\n",
       "        padding: 0 12px;\n",
       "          margin: 4px 18px;\n",
       "        gap: 4px;\n",
       "        border-radius: 4px;\n",
       "\n",
       "        align-items: center;\n",
       "        justify-content: center;\n",
       "        background-color: rgb(255, 255, 255);\n",
       "        color: rgb(51, 103, 214);\n",
       "\n",
       "        font-family: Roboto,\"Helvetica Neue\",sans-serif;\n",
       "        font-size: 13px;\n",
       "        font-weight: 500;\n",
       "        text-transform: uppercase;\n",
       "        text-decoration: none !important;\n",
       "\n",
       "        transition: box-shadow 280ms cubic-bezier(0.4, 0, 0.2, 1) 0s;\n",
       "        box-shadow: 0px 3px 1px -2px rgba(0,0,0,0.2), 0px 2px 2px 0px rgba(0,0,0,0.14), 0px 1px 5px 0px rgba(0,0,0,0.12);\n",
       "      }\n",
       "      .view-vertex-resource:active {\n",
       "        box-shadow: 0px 5px 5px -3px rgba(0,0,0,0.2),0px 8px 10px 1px rgba(0,0,0,0.14),0px 3px 14px 2px rgba(0,0,0,0.12);\n",
       "      }\n",
       "      .view-vertex-resource:active .view-vertex-ripple::before {\n",
       "        position: absolute;\n",
       "        top: 0;\n",
       "        bottom: 0;\n",
       "        left: 0;\n",
       "        right: 0;\n",
       "        border-radius: 4px;\n",
       "        pointer-events: none;\n",
       "\n",
       "        content: '';\n",
       "        background-color: rgb(51, 103, 214);\n",
       "        opacity: 0.12;\n",
       "      }\n",
       "      .view-vertex-icon {\n",
       "        font-size: 18px;\n",
       "      }\n",
       "    </style>\n",
       "  \n",
       "        <a class=\"view-vertex-resource\" id=\"view-vertex-resource-c8cb147b-adaa-46b3-bc83-02c29d0319a1\" href=\"#view-view-vertex-resource-c8cb147b-adaa-46b3-bc83-02c29d0319a1\">\n",
       "          <span class=\"material-icons view-vertex-icon\">tune</span>\n",
       "          <span>View Tuning Job</span>\n",
       "        </a>\n",
       "        \n",
       "        <script>\n",
       "          (function () {\n",
       "            const link = document.getElementById('view-vertex-resource-c8cb147b-adaa-46b3-bc83-02c29d0319a1');\n",
       "            link.addEventListener('click', (e) => {\n",
       "              if (window.google?.colab?.openUrl) {\n",
       "                window.google.colab.openUrl('https://console.cloud.google.com/vertex-ai/generative/language/locations/europe-west1/tuning/tuningJob/6174178765476724736?project=943827398969');\n",
       "              } else {\n",
       "                window.open('https://console.cloud.google.com/vertex-ai/generative/language/locations/europe-west1/tuning/tuningJob/6174178765476724736?project=943827398969', '_blank');\n",
       "              }\n",
       "              e.stopPropagation();\n",
       "              e.preventDefault();\n",
       "            });\n",
       "          })();\n",
       "        </script>\n",
       "    "
      ],
      "text/plain": [
       "<IPython.core.display.HTML object>"
      ]
     },
     "metadata": {},
     "output_type": "display_data"
    }
   ],
   "source": [
    "## Initialise parameters and model endpoints\n",
    "import vertexai\n",
    "from vertexai.generative_models import GenerativeModel\n",
    "from vertexai.tuning import sft\n",
    "\n",
    "\n",
    "PROJECT_ID = \"tech-talent-4-2bed493d\"\n",
    "project = \"6174178765476724736\"\n",
    "location = \"europe-west1\"\n",
    "\n",
    "\n",
    "vertexai.init(project=PROJECT_ID, location=location)\n",
    "\n",
    "sft_tuning_job = sft.SupervisedTuningJob(\"projects/tech-talent-4-2bed493d/locations/europe-west1/tuningJobs/6174178765476724736\")\n",
    "tuned_model = GenerativeModel(sft_tuning_job.tuned_model_endpoint_name)\n",
    "\n",
    "\n",
    "model = GenerativeModel(\"gemini-2.0-flash\")\n",
    "\n"
   ]
  },
  {
   "cell_type": "code",
   "execution_count": null,
   "metadata": {},
   "outputs": [
    {
     "name": "stdout",
     "output_type": "stream",
     "text": [
      "                                            dialogue      label\n",
      "0  caller: Hello, is this John? I'm calling from ...      Fraud\n",
      "1  caller: Hello, is this John? receiver: No, thi...  Not Fraud\n",
      "2  caller: Hello, is this Mr. Johnson?  receiver:...      Fraud\n",
      "3  caller: Hello, is this Mr. Johnson? receiver: ...      Fraud\n",
      "4  caller: Hello, this is John from Microsoft Tec...      Fraud\n"
     ]
    },
    {
     "data": {
      "text/plain": [
       "100"
      ]
     },
     "execution_count": 6,
     "metadata": {},
     "output_type": "execute_result"
    }
   ],
   "source": [
    "##Extract data\n",
    "import pandas as pd\n",
    "\n",
    "test_data = pd.read_csv('test_data_trial.csv')\n",
    "print(test_data.head())\n",
    "len(test_data)"
   ]
  },
  {
   "cell_type": "code",
   "execution_count": null,
   "metadata": {},
   "outputs": [],
   "source": [
    "## Query tuned model - NB: if the full range is requested the query limit will be reached perform the query in chunks or add a backoff feature\n",
    "for i in range(0, 100):\n",
    "    response = tuned_model.generate_content(\n",
    "        [test_data.iloc[i]['dialogue'],\n",
    "        \"please respond exclusively with either 'Fraud' or 'Not Fraud'\"\n",
    "        ]\n",
    "    )\n",
    "    test_data.loc[i, \"guess_tuned\"] = response.text.strip().split('Fraud')[0] + 'Fraud'"
   ]
  },
  {
   "cell_type": "code",
   "execution_count": null,
   "metadata": {},
   "outputs": [],
   "source": [
    "## Query base model\n",
    "for i in range(0,100):\n",
    "    response = model.generate_content(\n",
    "        [test_data.iloc[i]['dialogue'],\n",
    "        \"please respond exclusively with either 'Fraud' or 'Not Fraud'\"\n",
    "        ]\n",
    "    )\n",
    "    test_data.loc[i, \"guess_base\"] = response.text.strip()"
   ]
  },
  {
   "cell_type": "code",
   "execution_count": null,
   "metadata": {},
   "outputs": [
    {
     "name": "stdout",
     "output_type": "stream",
     "text": [
      "        label guess_tuned guess_base\n",
      "0       Fraud       Fraud      Fraud\n",
      "1   Not Fraud   Not Fraud  Not Fraud\n",
      "2       Fraud       Fraud      Fraud\n",
      "3       Fraud       Fraud      Fraud\n",
      "4       Fraud       Fraud      Fraud\n",
      "..        ...         ...        ...\n",
      "95  Not Fraud   Not Fraud  Not Fraud\n",
      "96      Fraud       Fraud      Fraud\n",
      "97  Not Fraud   Not Fraud  Not Fraud\n",
      "98      Fraud       Fraud      Fraud\n",
      "99  Not Fraud   Not Fraud  Not Fraud\n",
      "\n",
      "[100 rows x 3 columns]\n",
      "Tuned model accuracy: 0.99\n",
      "Base model accuracy: 0.95\n",
      "['Fraud' 'Not Fraud']\n"
     ]
    }
   ],
   "source": [
    "## Calculate accuracies\n",
    "results_df = test_data[['label', 'guess_tuned', 'guess_base']]\n",
    "print(results_df)\n",
    "\n",
    "\n",
    "tuned_accuracy = sum((test_data[\"label\"] == test_data[\"guess_tuned\"]))/len(test_data)\n",
    "base_accuracy = sum((test_data[\"label\"] == test_data[\"guess_base\"]))/len(test_data)\n",
    "\n",
    "print(f\"Tuned model accuracy: {tuned_accuracy}\")\n",
    "print(f\"Base model accuracy: {base_accuracy}\")\n",
    "\n",
    "print(test_data[\"guess_tuned\"].unique())"
   ]
  }
 ],
 "metadata": {
  "kernelspec": {
   "display_name": "venv1405",
   "language": "python",
   "name": "python3"
  },
  "language_info": {
   "codemirror_mode": {
    "name": "ipython",
    "version": 3
   },
   "file_extension": ".py",
   "mimetype": "text/x-python",
   "name": "python",
   "nbconvert_exporter": "python",
   "pygments_lexer": "ipython3",
   "version": "3.12.8"
  }
 },
 "nbformat": 4,
 "nbformat_minor": 2
}
